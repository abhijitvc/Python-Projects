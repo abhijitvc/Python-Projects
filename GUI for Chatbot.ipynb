{
 "cells": [
  {
   "cell_type": "code",
   "execution_count": 1,
   "metadata": {},
   "outputs": [],
   "source": [
    "from tkinter import *"
   ]
  },
  {
   "cell_type": "code",
   "execution_count": 2,
   "metadata": {},
   "outputs": [],
   "source": [
    "#parent window\n",
    "\n",
    "root = Tk()"
   ]
  },
  {
   "cell_type": "code",
   "execution_count": 3,
   "metadata": {},
   "outputs": [
    {
     "data": {
      "text/plain": [
       "''"
      ]
     },
     "execution_count": 3,
     "metadata": {},
     "output_type": "execute_result"
    }
   ],
   "source": [
    "#give window a title\n",
    "\n",
    "root.title('Chat Bot')"
   ]
  },
  {
   "cell_type": "code",
   "execution_count": 4,
   "metadata": {},
   "outputs": [
    {
     "data": {
      "text/plain": [
       "''"
      ]
     },
     "execution_count": 4,
     "metadata": {},
     "output_type": "execute_result"
    }
   ],
   "source": [
    "# give window dimensions\n",
    "\n",
    "root.geometry('400x500')"
   ]
  },
  {
   "cell_type": "code",
   "execution_count": 5,
   "metadata": {},
   "outputs": [],
   "source": [
    "#Main Menu Bar\n",
    "\n",
    "main_menu = Menu(root)"
   ]
  },
  {
   "cell_type": "code",
   "execution_count": 6,
   "metadata": {},
   "outputs": [],
   "source": [
    "#Create sub menu\n",
    "\n",
    "file_menu = Menu(root)\n",
    "file_menu.add_command(label='New..')\n",
    "file_menu.add_command(label='Save As..')\n",
    "file_menu.add_command(label='Exit')"
   ]
  },
  {
   "cell_type": "code",
   "execution_count": 7,
   "metadata": {},
   "outputs": [],
   "source": [
    "main_menu.add_cascade(label='File', menu = file_menu)\n",
    "main_menu.add_command(label='Edit')\n",
    "main_menu.add_command(label='Quit')\n",
    "\n",
    "root.config(menu=main_menu)"
   ]
  },
  {
   "cell_type": "code",
   "execution_count": 8,
   "metadata": {},
   "outputs": [],
   "source": [
    "#Create the Chat Window\n",
    "\n",
    "chatWindow = Text(root, bd = 1, bg = 'black', width= 50, height = 8)\n",
    "chatWindow.place(x=6, y=6, height = 385, width = 370)"
   ]
  },
  {
   "cell_type": "code",
   "execution_count": 9,
   "metadata": {},
   "outputs": [],
   "source": [
    "#Create the Messaging Window\n",
    "\n",
    "messageWindow = Text(root, bg = 'white', width= 30, height = 4)\n",
    "messageWindow.place(x = 128, y = 400, height = 88, width = 260)"
   ]
  },
  {
   "cell_type": "code",
   "execution_count": 10,
   "metadata": {},
   "outputs": [],
   "source": [
    "#Create a button to send the message\n",
    "\n",
    "Button = Button(root, text = 'Send', bg = 'blue', activebackground = 'light blue', width = 12, height = 5, font='Arial')\n",
    "Button.place(x=6, y=400, height = 88, width = 120)"
   ]
  },
  {
   "cell_type": "code",
   "execution_count": 11,
   "metadata": {},
   "outputs": [],
   "source": [
    "#Add a Scroll Bar\n",
    "\n",
    "scrollbar = Scrollbar(root, command = chatWindow.yview())\n",
    "scrollbar.place(x=375, y=5, height=385)"
   ]
  },
  {
   "cell_type": "code",
   "execution_count": null,
   "metadata": {},
   "outputs": [],
   "source": [
    "root.mainloop()"
   ]
  }
 ],
 "metadata": {
  "kernelspec": {
   "display_name": "Python 3",
   "language": "python",
   "name": "python3"
  },
  "language_info": {
   "codemirror_mode": {
    "name": "ipython",
    "version": 3
   },
   "file_extension": ".py",
   "mimetype": "text/x-python",
   "name": "python",
   "nbconvert_exporter": "python",
   "pygments_lexer": "ipython3",
   "version": "3.7.4"
  }
 },
 "nbformat": 4,
 "nbformat_minor": 2
}
