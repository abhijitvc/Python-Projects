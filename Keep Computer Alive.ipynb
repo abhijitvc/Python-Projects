{
 "cells": [
  {
   "cell_type": "code",
   "execution_count": null,
   "metadata": {},
   "outputs": [],
   "source": [
    "# !pip install pyautogui"
   ]
  },
  {
   "cell_type": "code",
   "execution_count": null,
   "metadata": {},
   "outputs": [],
   "source": [
    "import pyautogui\n",
    "import time\n",
    "pyautogui.FAILSAFE = False\n",
    "\n",
    "while True:\n",
    "    time.sleep(300) #the code will run after every 5 mins or 300 seconds\n",
    "    for i in range(0, 100):\n",
    "        pyautogui.moveTo(0, i*5)\n",
    "    for i in range(0, 3):\n",
    "        pyautogui.press(\"shift\") #the shift key will be pressed"
   ]
  },
  {
   "cell_type": "code",
   "execution_count": null,
   "metadata": {},
   "outputs": [],
   "source": []
  },
  {
   "cell_type": "code",
   "execution_count": null,
   "metadata": {},
   "outputs": [],
   "source": [
    "# import pyautogui\n",
    "# import time\n",
    "# pyautogui.FAILSAFE=False\n",
    "\n",
    "# while True:\n",
    "#     time.sleep(10)\n",
    "\n",
    "#     for i in range(0,100):\n",
    "#         pyautogui.move(0,1*2)\n",
    "\n",
    "#     for i in range(0,1):\n",
    "\n",
    "#         pyautogui.press('enter')\n",
    "\n",
    "#         pyautogui.press('p')\n",
    "\n",
    "#         pyautogui.press('r')\n",
    "\n",
    "#         pyautogui.press('i')\n",
    "\n",
    "#         pyautogui.press('n')\n",
    "\n",
    "#         pyautogui.press('t')\n",
    "\n",
    "#         pyautogui.press('(')\n",
    "\n",
    "#         pyautogui.press('\"')\n",
    "\n",
    "#         pyautogui.press('H')\n",
    "\n",
    "#         pyautogui.press('i')\n",
    "\n",
    "#         pyautogui.press(' ')\n",
    "\n",
    "#         pyautogui.press(',')\n",
    "\n",
    "#         pyautogui.press('I')\n",
    "\n",
    "#         pyautogui.press(' ')\n",
    "\n",
    "#         pyautogui.press('a')\n",
    "\n",
    "#         pyautogui.press('m')\n",
    "\n",
    "#         pyautogui.press(' ')\n",
    "\n",
    "#         pyautogui.press('y')\n",
    "\n",
    "#         pyautogui.press('o')\n",
    "\n",
    "#         pyautogui.press('u')\n",
    "\n",
    "#         pyautogui.press('r')\n",
    "\n",
    "#         pyautogui.press(' ')\n",
    "\n",
    "#         pyautogui.press('F')\n",
    "\n",
    "#         pyautogui.press('r')\n",
    "\n",
    "#         pyautogui.press('i')\n",
    "\n",
    "#         pyautogui.press('e')\n",
    "\n",
    "#         pyautogui.press('n')\n",
    "\n",
    "#         pyautogui.press('d')\n",
    "\n",
    "#         pyautogui.press('right key')\n",
    "\n",
    "#         pyautogui.press('right key')"
   ]
  }
 ],
 "metadata": {
  "kernelspec": {
   "display_name": "Python 3",
   "language": "python",
   "name": "python3"
  },
  "language_info": {
   "codemirror_mode": {
    "name": "ipython",
    "version": 3
   },
   "file_extension": ".py",
   "mimetype": "text/x-python",
   "name": "python",
   "nbconvert_exporter": "python",
   "pygments_lexer": "ipython3",
   "version": "3.7.4"
  }
 },
 "nbformat": 4,
 "nbformat_minor": 2
}
