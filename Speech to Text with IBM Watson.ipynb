{
 "cells": [
  {
   "cell_type": "markdown",
   "metadata": {},
   "source": [
    "**Import and Install Dependencies**"
   ]
  },
  {
   "cell_type": "code",
   "execution_count": null,
   "metadata": {},
   "outputs": [],
   "source": [
    "# !pip install ibm_watson"
   ]
  },
  {
   "cell_type": "code",
   "execution_count": 3,
   "metadata": {},
   "outputs": [],
   "source": [
    "from ibm_watson import SpeechToTextV1 # IBM speech recognition module\n",
    "from ibm_watson.websocket import RecognizeCallback, AudioSource \n",
    "from ibm_cloud_sdk_core.authenticators import IAMAuthenticator #for authentication of speech to text API"
   ]
  },
  {
   "cell_type": "markdown",
   "metadata": {},
   "source": [
    "**Set up Speech to Text Service**"
   ]
  },
  {
   "cell_type": "code",
   "execution_count": 4,
   "metadata": {},
   "outputs": [],
   "source": [
    "apikey = '' #insert your IBM Watson API key here\n",
    "\n",
    "url = 'https://api.eu-gb.speech-to-text.watson.cloud.ibm.com/instances/ead240f1-2e20-4606-8d45-136d04ea6015'"
   ]
  },
  {
   "cell_type": "code",
   "execution_count": 5,
   "metadata": {},
   "outputs": [],
   "source": [
    "# Setup Service\n",
    "authenticator = IAMAuthenticator(apikey)\n",
    "stt = SpeechToTextV1(authenticator=authenticator)\n",
    "stt.set_service_url(url)"
   ]
  },
  {
   "cell_type": "markdown",
   "metadata": {},
   "source": [
    "**Open Audio Source and Convert**"
   ]
  },
  {
   "cell_type": "code",
   "execution_count": 21,
   "metadata": {},
   "outputs": [],
   "source": [
    "# Perform conversion with the American language model\n",
    "with open('sapiens1.mp3', 'rb') as f:\n",
    "    res = stt.recognize(audio=f, content_type='audio/mp3', model='en-US_NarrowbandModel', continuous=True).get_result()"
   ]
  },
  {
   "cell_type": "code",
   "execution_count": 7,
   "metadata": {},
   "outputs": [
    {
     "data": {
      "text/plain": [
       "{'result_index': 0,\n",
       " 'results': [{'final': True,\n",
       "   'alternatives': [{'transcript': 'gene is home of the position in the food chain was until quite recently solidly in the middle for millions of years humans hunted smaller creatures in get what they call it all the while being hunted by larger predators it was only four hundred thousand years ago that several species of man began to hunt large game on a regular ',\n",
       "     'confidence': 0.81}]},\n",
       "  {'final': True,\n",
       "   'alternatives': [{'transcript': \"and only in the lost one hundred thousand dheas with the rise of homo sapiens %HESITATION jump to the top of the food chain that's spectacular leap from the middle to the top had enormous consequences other animals with the top of the P. remote perches lands and shock of all didn't do that position very gradually over millions of years this enables the system to develop checks and balances that prevent lives in shocks from wreaking too much havoc outlines became deadlier still goes as of Aug to run foster hi my name is Dick will produce better and rhinoceroses to be more bad tempered in contrast humankind ascended to the top so quickly that the system was not given time to adjust moreover humans themselves feel to it just most top predators of the planet a majestic creatures \",\n",
       "     'confidence': 0.72}]},\n",
       "  {'final': True,\n",
       "   'alternatives': [{'transcript': 'millions of years of dominion have filled them with self confidence by contrast is more like a banana Republic dictator having so recently being one of the underdog is this a van now we are full of fears and anxieties over opposition which makes W. cruel and dangerous many historical calamities from deadly want to ecological catastrophes have resulted from this over hasty jump ',\n",
       "     'confidence': 0.79}]}]}"
      ]
     },
     "execution_count": 7,
     "metadata": {},
     "output_type": "execute_result"
    }
   ],
   "source": [
    "res"
   ]
  },
  {
   "cell_type": "code",
   "execution_count": 8,
   "metadata": {},
   "outputs": [
    {
     "data": {
      "text/plain": [
       "'gene is home of the position in the food chain was until quite recently solidly in the middle for millions of years humans hunted smaller creatures in get what they call it all the while being hunted by larger predators it was only four hundred thousand years ago that several species of man began to hunt large game on a regular '"
      ]
     },
     "execution_count": 8,
     "metadata": {},
     "output_type": "execute_result"
    }
   ],
   "source": [
    "text = res['results'][0]['alternatives'][0]['transcript']\n",
    "text #extract our conversion for the 0th instance"
   ]
  },
  {
   "cell_type": "code",
   "execution_count": 12,
   "metadata": {},
   "outputs": [
    {
     "data": {
      "text/plain": [
       "0.81"
      ]
     },
     "execution_count": 12,
     "metadata": {},
     "output_type": "execute_result"
    }
   ],
   "source": [
    "confidence = res['results'][0]['alternatives'][0]['confidence']\n",
    "confidence"
   ]
  },
  {
   "cell_type": "code",
   "execution_count": 14,
   "metadata": {},
   "outputs": [],
   "source": [
    "with open('output.txt', 'w') as out:\n",
    "    out.writelines(text)"
   ]
  },
  {
   "cell_type": "markdown",
   "metadata": {},
   "source": [
    "**Exchange Language Models**"
   ]
  },
  {
   "cell_type": "code",
   "execution_count": 22,
   "metadata": {},
   "outputs": [],
   "source": [
    "# Perform conversion with the British langauge model\n",
    "with open('sapiens1.mp3', 'rb') as f:\n",
    "    res = stt.recognize(audio=f, content_type='audio/mp3', model='en-GB_NarrowbandModel', continuous=True).get_result()"
   ]
  },
  {
   "cell_type": "code",
   "execution_count": 23,
   "metadata": {},
   "outputs": [
    {
     "data": {
      "text/plain": [
       "{'result_index': 0,\n",
       " 'results': [{'final': True,\n",
       "   'alternatives': [{'transcript': \"do you know is home of the vision in the food chain was acquired recently solidly in the middle for millions of years humans planted smaller creatures in get paid what they could although while being hunted by larger predators it was only four hundred thousand years ago that every species of man began to Huntelaar game on a regular basis and only the lost one hundred thousand years with the rise of homes Z. bian step and jump to the top of the food chain that big tacular leap from the middle to the top had enormous consequences other animals with the top of the pyramid such as lions and shock of all didn't do that position very gradually over millions of years this time able the court system to develop Jackson balances that prevent lions in shocks from reading too much having up as lines became deadly a so good has a voice to run faster hi to cooperate betta and rhinoceroses to be more bad tempered in contrast humankind ascended to the job so quickly that the court system was not given time to judge moreover humans themselves field doing just most top predators of the planet a majestic creatures \",\n",
       "     'confidence': 0.8}]},\n",
       "  {'final': True,\n",
       "   'alternatives': [{'transcript': \"millions of years of domination have filled them with self confidence a PNC bank on trust is more like a banana Republic dictator having so recently being one of the underdogs it's just a Venema we are full of fears and anxieties over opposition which makes W. gruelling dangerous many historical calamities from deadly what do we go logical catastrophes have resulted from this over hasty jump \",\n",
       "     'confidence': 0.86}]}]}"
      ]
     },
     "execution_count": 23,
     "metadata": {},
     "output_type": "execute_result"
    }
   ],
   "source": [
    "res"
   ]
  },
  {
   "cell_type": "code",
   "execution_count": 25,
   "metadata": {},
   "outputs": [
    {
     "data": {
      "text/plain": [
       "\"millions of years of domination have filled them with self confidence a PNC bank on trust is more like a banana Republic dictator having so recently being one of the underdogs it's just a Venema we are full of fears and anxieties over opposition which makes W. gruelling dangerous many historical calamities from deadly what do we go logical catastrophes have resulted from this over hasty jump \""
      ]
     },
     "execution_count": 25,
     "metadata": {},
     "output_type": "execute_result"
    }
   ],
   "source": [
    "text1 = res['results'][1]['alternatives'][0]['transcript']\n",
    "text1 #extract our conversion for the 0th instance"
   ]
  },
  {
   "cell_type": "code",
   "execution_count": 26,
   "metadata": {},
   "outputs": [
    {
     "data": {
      "text/plain": [
       "0.86"
      ]
     },
     "execution_count": 26,
     "metadata": {},
     "output_type": "execute_result"
    }
   ],
   "source": [
    "confidence = res['results'][1]['alternatives'][0]['confidence']\n",
    "confidence"
   ]
  },
  {
   "cell_type": "code",
   "execution_count": 17,
   "metadata": {},
   "outputs": [],
   "source": [
    "# Perform conversion with the US English ShortForm langauge model\n",
    "with open('sapiens1.mp3', 'rb') as f:\n",
    "    res = stt.recognize(audio=f, content_type='audio/mp3', model='en-US_ShortForm_NarrowbandModel', continuous=True).get_result()"
   ]
  },
  {
   "cell_type": "code",
   "execution_count": 18,
   "metadata": {},
   "outputs": [
    {
     "data": {
      "text/plain": [
       "{'result_index': 0,\n",
       " 'results': [{'final': True,\n",
       "   'alternatives': [{'transcript': \"gene is home of the position in the food chain was until quite recently solidly in the middle for millions of young humans hunted smaller creatures in gaps and what they could all the while being hunted by larger predators it was only four hundred thousand years ago that several species of mine began to hunt log game on a regular basis and only in the lost one hundred thousand dheas with the rise of homo sapiens does nine jump to the top of the food chain that's spectacular leap from the middle to the top had enormous consequences other animals with the top of the P. remote perches land in shock of logged in to that position very gradually over millions of young just a naval Vicorp Tim to develop checks and balances that prevent lives in shock stram wreaking to much havoc outlines became dead Leia still goes as devolved to run Foster hi emails to corporate better hundred I noticed it is going to be more bad tempered in contrast humankind ascended to the top so quickly that the system was not given time to the judge moreover humans themselves for you to adjust most top predators of the planet I'm adjuster creatures \",\n",
       "     'confidence': 0.67}]},\n",
       "  {'final': True,\n",
       "   'alternatives': [{'transcript': 'millions of years of Germany and have filled them with self confidence fifteen by contrast is more like a banana Republic dictator having so recently being one of the underdog is this Savannah we are full of Sears and nine variety the overall position which makes W. cruel and dangerous many historical calamity from deadly what do ecological catastrophes have resulted from this over hasty jump ',\n",
       "     'confidence': 0.72}]}]}"
      ]
     },
     "execution_count": 18,
     "metadata": {},
     "output_type": "execute_result"
    }
   ],
   "source": [
    "res"
   ]
  },
  {
   "cell_type": "code",
   "execution_count": 19,
   "metadata": {},
   "outputs": [],
   "source": [
    "# Perform conversion with the Australian(beta) langauge model\n",
    "with open('sapiens1.mp3', 'rb') as f:\n",
    "    res = stt.recognize(audio=f, content_type='audio/mp3', model='en-AU_NarrowbandModel', continuous=True).get_result()"
   ]
  },
  {
   "cell_type": "code",
   "execution_count": 20,
   "metadata": {},
   "outputs": [
    {
     "data": {
      "text/plain": [
       "{'result_index': 0,\n",
       " 'results': [{'final': True,\n",
       "   'alternatives': [{'transcript': \"Gina's home of division in the full gene was until quite recently solidly in the middle for millions of years few months hundred smaller G. two then gathered what they could although while being hunted by larger predators it was only four hundred thousand years ago that several species of man began two hundred last game on a regular basis and only the last one hundred thousand years with the right of homo sapiens the van jumped to the top off the full gene that's spectacularly from the middle to the top had enormous consequences other animals with the top of the pyramid such as lanes and sharks of logged into that position very gradually over millions of years this enabled vehicle system to develop checks and balances that prevent lions and sharks from reading too much have work outlined became deadlier still goes out the valves to run faster payments to corporate better android or services to be more bad tempered in contrast human going to send it to the job so quickly the vehicle system was not given time to adjust moreover humans themselves field to adjust most operators of the planet damages your creatures \",\n",
       "     'confidence': 0.77}]},\n",
       "  {'final': True,\n",
       "   'alternatives': [{'transcript': 'millions of years of domination have filled them with self confidence seeping back on tractors more like a banana Republic dictator having so recently been one of the underdogs of the Savannah we are full of fears and anxiety the router version which makes a W. cruel and dangerous many historical calamities from deadly work to regular jingle catastrophes have resulted from this over his D. jump ',\n",
       "     'confidence': 0.83}]}]}"
      ]
     },
     "execution_count": 20,
     "metadata": {},
     "output_type": "execute_result"
    }
   ],
   "source": [
    "res"
   ]
  },
  {
   "cell_type": "code",
   "execution_count": null,
   "metadata": {},
   "outputs": [],
   "source": []
  }
 ],
 "metadata": {
  "kernelspec": {
   "display_name": "Python 3",
   "language": "python",
   "name": "python3"
  },
  "language_info": {
   "codemirror_mode": {
    "name": "ipython",
    "version": 3
   },
   "file_extension": ".py",
   "mimetype": "text/x-python",
   "name": "python",
   "nbconvert_exporter": "python",
   "pygments_lexer": "ipython3",
   "version": "3.7.4"
  }
 },
 "nbformat": 4,
 "nbformat_minor": 2
}
