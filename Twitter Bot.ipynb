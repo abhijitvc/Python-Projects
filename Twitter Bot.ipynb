{
 "cells": [
  {
   "cell_type": "code",
   "execution_count": null,
   "metadata": {},
   "outputs": [],
   "source": [
    "# !pip install selenium"
   ]
  },
  {
   "cell_type": "markdown",
   "metadata": {},
   "source": [
    "**Location for saving gecko driver to launch Firefox**\n",
    "\n",
    "C:\\Users\\Abhijit Chendvankar\\AppData\\Local\\Programs\\Python\\Python38-32\n",
    "\n",
    "Download link for geckodriver:  https://github.com/mozilla/geckodriver/releases"
   ]
  },
  {
   "cell_type": "code",
   "execution_count": null,
   "metadata": {},
   "outputs": [],
   "source": [
    "import selenium\n",
    "from selenium import webdriver\n",
    "from selenium.webdriver.common.keys import Keys\n",
    "import time\n",
    "\n",
    "class TwitterBot:\n",
    "    def __init__(self,username,password):\n",
    "        self.username = username\n",
    "        self.password = password\n",
    "        self.bot = webdriver.Firefox()        # creating an instance of our bot\n",
    "    \n",
    "    def login(self):\n",
    "        bot = self.bot\n",
    "        bot.get('https://twitter.com/login')\n",
    "        time.sleep(5)\n",
    "        email = bot.find_element_by_name(\"session[username_or_email]\")\n",
    "        password = bot.find_element_by_name(\"session[password]\")\n",
    "        email.clear()\n",
    "        password.clear()\n",
    "        email.send_keys(self.username)\n",
    "        password.send_keys(self.password)\n",
    "        password.send_keys(Keys.RETURN)\n",
    "        time.sleep(5)\n",
    "        \n",
    "    def like_tweet(self,hashtag):\n",
    "        bot = self.bot\n",
    "        bot.get('https://twitter.com/search?q='+hashtag+'&src=typed_query')\n",
    "        time.sleep(5)\n",
    "        for i in range(1,3):\n",
    "            bot.execute_script('window.scrollTo(0, document.body.scrollHeight)')\n",
    "            time.sleep(3)\n",
    "            tweets = bot.find_elements_by_class_name('tweet')\n",
    "            links = [elem.get_attribute('data-permalink-path') for elem in tweets]\n",
    "#             print(links)\n",
    "            for link in links:\n",
    "                bot.get('https://twitter.com' + link)\n",
    "                try:\n",
    "                    bot.find_elements_by_class_name('HeartAnimation').click()\n",
    "                    time.sleep(10)\n",
    "                except Exception as ex:\n",
    "                    time.sleep(30)\n",
    "        \n",
    "        \n",
    "ac = TwitterBot('UserName', 'YourPassword')\n",
    "ac.login()\n",
    "ac.like_tweet('datascience')\n",
    "\n",
    "#__Helo__World__"
   ]
  },
  {
   "cell_type": "code",
   "execution_count": null,
   "metadata": {},
   "outputs": [],
   "source": []
  }
 ],
 "metadata": {
  "kernelspec": {
   "display_name": "Python 3",
   "language": "python",
   "name": "python3"
  },
  "language_info": {
   "codemirror_mode": {
    "name": "ipython",
    "version": 3
   },
   "file_extension": ".py",
   "mimetype": "text/x-python",
   "name": "python",
   "nbconvert_exporter": "python",
   "pygments_lexer": "ipython3",
   "version": "3.7.4"
  }
 },
 "nbformat": 4,
 "nbformat_minor": 2
}
