{
 "cells": [
  {
   "cell_type": "code",
   "execution_count": null,
   "metadata": {},
   "outputs": [],
   "source": [
    "import cv2\n",
    "\n",
    "face_cascade = cv2.CascadeClassifier('haarcascade_frontalface_default.xml') #for frontal face detection only\n",
    "\n",
    "#https://github.com/opencv/opencv/tree/master/data/haarcascades\n",
    "\n",
    "cap = cv2.VideoCapture(0) #zero here is webcam, the variable cap is a video capture object\n",
    "\n",
    "while True:\n",
    "    a, img = cap.read() #a is a flag that is used to indicate whether frame was read correctly, img=frame itself\n",
    "    gray = cv2.cvtColor(img, cv2.COLOR_BGR2GRAY) #convert to grayscale\n",
    "    faces = face_cascade.detectMultiScale(gray, 1.1, 4) #gray=image itself, 1.1=scale factor, 4=minimum neighbors\n",
    "\n",
    "    for (x,y,w,h) in faces:\n",
    "        cv2.rectangle(img,(x,y),(x+w,y+h),(255,0,0),2) #to draw a rectangle around the image, 255=color blue of rectangle, 2= thickness of rectangle\n",
    "    cv2.imshow('img', img) #to show the image\n",
    "    \n",
    "    k = cv2.waitKey(30) & 0xff                # k=break the infinite loop when the escape key is pressed\n",
    "    if k==27:\n",
    "        break\n",
    "cap.release()"
   ]
  },
  {
   "cell_type": "code",
   "execution_count": null,
   "metadata": {},
   "outputs": [],
   "source": []
  }
 ],
 "metadata": {
  "kernelspec": {
   "display_name": "Python 3",
   "language": "python",
   "name": "python3"
  },
  "language_info": {
   "codemirror_mode": {
    "name": "ipython",
    "version": 3
   },
   "file_extension": ".py",
   "mimetype": "text/x-python",
   "name": "python",
   "nbconvert_exporter": "python",
   "pygments_lexer": "ipython3",
   "version": "3.7.4"
  }
 },
 "nbformat": 4,
 "nbformat_minor": 2
}
